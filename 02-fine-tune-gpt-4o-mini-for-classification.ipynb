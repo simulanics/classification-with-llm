{
 "cells": [
  {
   "metadata": {},
   "cell_type": "markdown",
   "source": "# Fine tune GPT-4o-mini for classification\n",
   "id": "cd49b310bd60ef77"
  },
  {
   "metadata": {
    "ExecuteTime": {
     "end_time": "2024-09-05T14:12:12.415562Z",
     "start_time": "2024-09-05T14:12:10.762803Z"
    }
   },
   "cell_type": "code",
   "source": "!pip install openai --quiet",
   "id": "46b7a5c0762f582e",
   "outputs": [],
   "execution_count": 7
  },
  {
   "metadata": {
    "ExecuteTime": {
     "end_time": "2024-09-07T09:56:01.825492Z",
     "start_time": "2024-09-07T09:56:01.821428Z"
    }
   },
   "cell_type": "code",
   "source": "SYSTEM_PROMPT = \"\"\"You are a classifier. Given a question, you need to classify it into one of the following classes:\\n - CANCEL\\n - INVOICE\\n - DELIVERY\\n - FEEDBACK\\n - CONTACT\\n - ORDER\\n - REFUND\\n - SHIPPING\\n - SUBSCRIPTION\\n - PAYMENT\\n - ACCOUNT\\n\\nDo not try to answer the question.\"\"\"",
   "id": "e3c3d71f6e53d36d",
   "outputs": [],
   "execution_count": 47
  },
  {
   "metadata": {
    "ExecuteTime": {
     "end_time": "2024-09-07T09:56:02.291024Z",
     "start_time": "2024-09-07T09:56:02.213105Z"
    }
   },
   "cell_type": "code",
   "source": [
    "# read train.csv and loop over the rows and take the question column, and the class_name column\n",
    "# and create a list of objects that look like this:\n",
    "# {\n",
    "#         \"messages\": [\n",
    "#             {\"role\": \"system\", \"content\":SYSTEM_PROMPT},\n",
    "#             {\"role\": \"user\", \"content\": << column question>>},\n",
    "#             {\"role\": \"assistant\",\n",
    "#              \"content\": \"<< column class_name >>\"}\n",
    "#         ]\n",
    "# }\n",
    "import pandas as pd\n",
    "df_train = pd.read_csv('train.csv')\n",
    "df_val = pd.read_csv('val.csv')\n",
    "\n",
    "def convert_to_messages(df):\n",
    "    data = []\n",
    "    for i, row in df.iterrows():\n",
    "        data.append({\n",
    "            \"messages\": [\n",
    "                {\"role\": \"system\", \"content\":SYSTEM_PROMPT},\n",
    "                {\"role\": \"user\", \"content\": row['question']},\n",
    "                {\"role\": \"assistant\",\n",
    "                 \"content\": row['class_name']}\n",
    "            ]\n",
    "        })\n",
    "    return data\n",
    "\n",
    "data_train = convert_to_messages(df_train)\n",
    "data_val = convert_to_messages(df_val)\n",
    "    "
   ],
   "id": "963716d5b6e1edcd",
   "outputs": [],
   "execution_count": 48
  },
  {
   "metadata": {
    "ExecuteTime": {
     "end_time": "2024-09-07T09:57:47.829270Z",
     "start_time": "2024-09-07T09:57:47.807940Z"
    }
   },
   "cell_type": "code",
   "source": [
    "import json\n",
    "\n",
    "def to_openai_format(data, file_path):\n",
    "    with open(\n",
    "            file_path, \"w\", encoding=\"utf-8\"\n",
    "    ) as file:\n",
    "        for record in data:\n",
    "            json_line = json.dumps(record)\n",
    "            file.write(json_line + \"\\n\")\n",
    "\n",
    "TRAIN_OPENAI_FILE = \"train-openai.jsonl\"\n",
    "VAL_OPENAI_FILE = \"val-openai.jsonl\"\n",
    "to_openai_format(data=data_train, file_path=TRAIN_OPENAI_FILE)\n",
    "to_openai_format(data=data_val, file_path=VAL_OPENAI_FILE)\n"
   ],
   "id": "28ee3b00ec8ec59a",
   "outputs": [],
   "execution_count": 50
  },
  {
   "metadata": {
    "ExecuteTime": {
     "end_time": "2024-09-07T09:58:20.501743Z",
     "start_time": "2024-09-07T09:58:16.809833Z"
    }
   },
   "cell_type": "code",
   "source": [
    "import openai\n",
    "\n",
    "client = openai.OpenAI()\n",
    "\n",
    "def create_file(file_path):\n",
    "    response = client.files.create(\n",
    "        file=open(file_path, \"rb\"),\n",
    "        purpose=\"fine-tune\"\n",
    "    )\n",
    "    return response.id\n",
    "\n",
    "train_id = create_file(file_path=TRAIN_OPENAI_FILE)\n",
    "val_id = create_file(file_path=VAL_OPENAI_FILE)\n",
    "\n",
    "response = client.fine_tuning.jobs.create(\n",
    "    training_file=train_id,\n",
    "    validation_file=val_id,\n",
    "    model=\"gpt-4o-mini-2024-07-18\"\n",
    ")\n",
    "response\n"
   ],
   "id": "4e317cf23633ba1e",
   "outputs": [
    {
     "data": {
      "text/plain": [
       "FineTuningJob(id='ftjob-uchj4y2eWRV7OjUuGZztUzR1', created_at=1725703100, error=Error(code=None, message=None, param=None), fine_tuned_model=None, finished_at=None, hyperparameters=Hyperparameters(n_epochs='auto', batch_size='auto', learning_rate_multiplier='auto'), model='gpt-4o-mini-2024-07-18', object='fine_tuning.job', organization_id='org-bBHdSNHiFHSbkdpwXvV7ClOQ', result_files=[], seed=100034588, status='validating_files', trained_tokens=None, training_file='file-4cf9pcZ43oaKMqMP33oYijqw', validation_file='file-d6Xxrqztbi1JjAYsX7JLWJzY', estimated_finish=None, integrations=[], user_provided_suffix=None)"
      ]
     },
     "execution_count": 51,
     "metadata": {},
     "output_type": "execute_result"
    }
   ],
   "execution_count": 51
  },
  {
   "metadata": {
    "ExecuteTime": {
     "end_time": "2024-09-07T11:06:17.872540Z",
     "start_time": "2024-09-07T11:06:17.864845Z"
    }
   },
   "cell_type": "code",
   "source": [
    "\n",
    "MODEL_ID = \"ft:gpt-4o-mini-2024-07-18:drift::A4nSvjUg\"\n",
    "\n",
    "# Function to make a request to your fine-tuned model\n",
    "def call_finetuned_model(prompt):\n",
    "    try:\n",
    "        # Call the completion endpoint with your fine-tuned model\n",
    "        response = client.chat.completions.create(\n",
    "            model=MODEL_ID,  # Use the fine-tuned model ID\n",
    "            messages=[    \n",
    "                {\"role\":\"system\", \"content\": SYSTEM_PROMPT},\n",
    "                {\"role\":\"user\", \"content\": prompt}\n",
    "            ]\n",
    "        )\n",
    "        # Extract and return the generated text\n",
    "        return response.choices[0].message.content.strip()\n",
    "    \n",
    "    except Exception as e:\n",
    "        return f\"Error: {str(e)}\"\n",
    "\n"
   ],
   "id": "fa741ffd51fe40a1",
   "outputs": [],
   "execution_count": 61
  },
  {
   "metadata": {
    "jupyter": {
     "is_executing": true
    },
    "ExecuteTime": {
     "start_time": "2024-09-07T11:06:19.005388Z"
    }
   },
   "cell_type": "code",
   "source": [
    "# for each row in the test.csv file, take the question column and call the function call_finetuned_model\n",
    "# with the question as input and store the output in a new column called predicted_class_name\n",
    "df_test = pd.read_csv('test.csv')\n",
    "df_test['predicted_class_name'] = df_test['question'].apply(call_finetuned_model)\n",
    "df_test"
   ],
   "id": "69f2bf2dc5db1c69",
   "outputs": [],
   "execution_count": null
  },
  {
   "metadata": {
    "jupyter": {
     "is_executing": true
    }
   },
   "cell_type": "code",
   "source": [
    "def calculate_accuracy(df):\n",
    "    # use the huggingface evaluate library to evaluate the model by taking the columns\n",
    "    # 'predicted_class_name' and 'class_name' as input andd calculate the accuracy\n",
    "    from datasets import load_metric\n",
    "    # Create a mapping of class names to numerical labels\n",
    "    unique_classes = set(df['predicted_class_name']).union(set(df['class_name']))\n",
    "    class_to_int = {cls_name: idx for idx, cls_name in enumerate(unique_classes)}\n",
    "    \n",
    "    # Map the class names to integers\n",
    "    df['predicted_class_numeric'] = df['predicted_class_name'].map(class_to_int)\n",
    "    df['class_numeric'] = df['class_name'].map(class_to_int)\n",
    "    \n",
    "    # Compute the accuracy\n",
    "    metric = load_metric(\"accuracy\")\n",
    "    accuracy = metric.compute(predictions=df['predicted_class_numeric'], references=df['class_numeric'])\n",
    "    \n",
    "    print(f\"Accuracy: {accuracy['accuracy']}\")\n",
    "    return accuracy\n",
    "\n",
    "calculate_accuracy(df_test)"
   ],
   "id": "2288815cd5efdd39",
   "outputs": [],
   "execution_count": null
  },
  {
   "metadata": {},
   "cell_type": "code",
   "outputs": [],
   "execution_count": null,
   "source": "",
   "id": "9d8ed2722c657e"
  }
 ],
 "metadata": {
  "kernelspec": {
   "display_name": "Python 3",
   "language": "python",
   "name": "python3"
  },
  "language_info": {
   "codemirror_mode": {
    "name": "ipython",
    "version": 2
   },
   "file_extension": ".py",
   "mimetype": "text/x-python",
   "name": "python",
   "nbconvert_exporter": "python",
   "pygments_lexer": "ipython2",
   "version": "2.7.6"
  }
 },
 "nbformat": 4,
 "nbformat_minor": 5
}
