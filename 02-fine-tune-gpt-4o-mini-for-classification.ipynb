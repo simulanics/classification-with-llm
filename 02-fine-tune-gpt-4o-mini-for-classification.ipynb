{
 "cells": [
  {
   "metadata": {},
   "cell_type": "markdown",
   "source": "# Fine tune GPT-4o-mini for classification\n",
   "id": "cd49b310bd60ef77"
  },
  {
   "metadata": {
    "ExecuteTime": {
     "end_time": "2024-09-05T14:12:12.415562Z",
     "start_time": "2024-09-05T14:12:10.762803Z"
    }
   },
   "cell_type": "code",
   "source": "!pip install openai --quiet",
   "id": "46b7a5c0762f582e",
   "outputs": [],
   "execution_count": 7
  },
  {
   "metadata": {
    "ExecuteTime": {
     "end_time": "2024-09-05T14:09:50.464406Z",
     "start_time": "2024-09-05T14:09:50.461230Z"
    }
   },
   "cell_type": "code",
   "source": "SYSTEM_PROMPT = \"\"\"You are a classifier. Given a question, you need to classify it into one of the following classes:\\n - CANCEL\\n - INVOICE\\n - DELIVERY\\n - FEEDBACK\\n - CONTACT\\n - ORDER\\n - REFUND\\n - SHIPPING\\n - SUBSCRIPTION\\n - PAYMENT\\n - ACCOUNT\\n\\nDo not try to answer the question.\"\"\"",
   "id": "e3c3d71f6e53d36d",
   "outputs": [],
   "execution_count": 4
  },
  {
   "metadata": {
    "ExecuteTime": {
     "end_time": "2024-09-05T14:09:51.036248Z",
     "start_time": "2024-09-05T14:09:50.902845Z"
    }
   },
   "cell_type": "code",
   "source": [
    "# read train.csv and loop over the rows and take the question column, and the class_name column\n",
    "# and create a list of objects that look like this:\n",
    "# {\n",
    "#         \"messages\": [\n",
    "#             {\"role\": \"system\", \"content\":SYSTEM_PROMPT},\n",
    "#             {\"role\": \"user\", \"content\": << column question>>},\n",
    "#             {\"role\": \"assistant\",\n",
    "#              \"content\": \"<< column class_name >>\"}\n",
    "#         ]\n",
    "# }\n",
    "import pandas as pd\n",
    "df = pd.read_csv('train.csv')\n",
    "\n",
    "training_data = []\n",
    "for i, row in df.iterrows():\n",
    "    training_data.append({\n",
    "        \"messages\": [\n",
    "            {\"role\": \"system\", \"content\":SYSTEM_PROMPT},\n",
    "            {\"role\": \"user\", \"content\": row['question']},\n",
    "            {\"role\": \"assistant\",\n",
    "             \"content\": row['class_name']}\n",
    "        ]\n",
    "    })\n",
    "\n",
    "    "
   ],
   "id": "963716d5b6e1edcd",
   "outputs": [],
   "execution_count": 5
  },
  {
   "metadata": {
    "ExecuteTime": {
     "end_time": "2024-09-05T14:14:24.747375Z",
     "start_time": "2024-09-05T14:14:24.722914Z"
    }
   },
   "cell_type": "code",
   "source": [
    "import json\n",
    "TRAIN_OPENAI_FILE = \"train-openai.jsonl\"\n",
    "with open(\n",
    "        TRAIN_OPENAI_FILE, \"w\", encoding=\"utf-8\"\n",
    ") as file:\n",
    "    for record in training_data:\n",
    "        json_line = json.dumps(record)\n",
    "        file.write(json_line + \"\\n\")"
   ],
   "id": "28ee3b00ec8ec59a",
   "outputs": [],
   "execution_count": 9
  },
  {
   "metadata": {
    "ExecuteTime": {
     "end_time": "2024-09-05T15:08:22.928581Z",
     "start_time": "2024-09-05T15:08:19.689573Z"
    }
   },
   "cell_type": "code",
   "source": [
    "import openai\n",
    "\n",
    "client = openai.OpenAI()\n",
    "response = client.files.create(\n",
    "    file=open(TRAIN_OPENAI_FILE, \"rb\"),\n",
    "    purpose=\"fine-tune\"\n",
    ")\n",
    "file_id = response.id\n",
    "response = client.fine_tuning.jobs.create(\n",
    "    training_file=file_id,\n",
    "    model=\"gpt-4o-mini-2024-07-18\"\n",
    ")\n",
    "response\n"
   ],
   "id": "4e317cf23633ba1e",
   "outputs": [
    {
     "data": {
      "text/plain": [
       "FineTuningJob(id='ftjob-GEmrbC7SyWR0xGV1NmIWv8dK', created_at=1725548902, error=Error(code=None, message=None, param=None), fine_tuned_model=None, finished_at=None, hyperparameters=Hyperparameters(n_epochs='auto', batch_size='auto', learning_rate_multiplier='auto'), model='gpt-4o-mini-2024-07-18', object='fine_tuning.job', organization_id='org-bBHdSNHiFHSbkdpwXvV7ClOQ', result_files=[], seed=887280913, status='validating_files', trained_tokens=None, training_file='file-HUh9uTxZ1e0nXZ3rqpZ1t0Yr', validation_file=None, estimated_finish=None, integrations=[], user_provided_suffix=None)"
      ]
     },
     "execution_count": 16,
     "metadata": {},
     "output_type": "execute_result"
    }
   ],
   "execution_count": 16
  },
  {
   "metadata": {
    "ExecuteTime": {
     "end_time": "2024-09-06T06:36:59.179273Z",
     "start_time": "2024-09-06T06:36:59.174213Z"
    }
   },
   "cell_type": "code",
   "source": [
    "\n",
    "model_id = \"ft:gpt-4o-mini-2024-07-18:drift::A48JGLgp\"\n",
    "\n",
    "# Function to make a request to your fine-tuned model\n",
    "def call_finetuned_model(prompt):\n",
    "    try:\n",
    "        # Call the completion endpoint with your fine-tuned model\n",
    "        response = client.chat.completions.create(\n",
    "            model=model_id,  # Use the fine-tuned model ID\n",
    "            messages=[    \n",
    "                {\"role\":\"system\", \"content\": SYSTEM_PROMPT},\n",
    "                {\"role\":\"user\", \"content\": prompt}\n",
    "            ]\n",
    "        )\n",
    "        # Extract and return the generated text\n",
    "        return response.choices[0].message.content.strip()\n",
    "    \n",
    "    except Exception as e:\n",
    "        return f\"Error: {str(e)}\"\n",
    "\n"
   ],
   "id": "fa741ffd51fe40a1",
   "outputs": [],
   "execution_count": 30
  },
  {
   "metadata": {
    "ExecuteTime": {
     "end_time": "2024-09-06T06:40:06.287145Z",
     "start_time": "2024-09-06T06:37:13.077780Z"
    }
   },
   "cell_type": "code",
   "source": [
    "# for each row in the test.csv file, take the question column and call the function call_finetuned_model\n",
    "# with the question as input and store the output in a new column called predicted_class_name\n",
    "df_test = pd.read_csv('test.csv')\n",
    "df_test['predicted_class_name'] = df_test['question'].apply(call_finetuned_model)\n",
    "df_test"
   ],
   "id": "69f2bf2dc5db1c69",
   "outputs": [
    {
     "data": {
      "text/plain": [
       "       class_name                                           question     id  \\\n",
       "0          CANCEL  i do not know how i can see the cancellation c...   3329   \n",
       "1    SUBSCRIPTION  help me cancelling my corporate newsletter sub...  17714   \n",
       "2          REFUND  I paid {{Currency Symbol}}{{Refund Amount}} fo...  16152   \n",
       "3          CANCEL  i want assistance checking the termination pen...   3648   \n",
       "4          REFUND  i expect a rebate of {{Currency Symbol}}{{Refu...  26431   \n",
       "..            ...                                                ...    ...   \n",
       "325       CONTACT      I want to speak with customer service, helpme   8258   \n",
       "326       INVOICE                                 get invoice #85632  15244   \n",
       "327      FEEDBACK                         help me filing a complaint   7352   \n",
       "328      DELIVERY  want help seeing how long it takes for my ship...  13018   \n",
       "329        CANCEL     I need help to check the early termination fee   3262   \n",
       "\n",
       "    predicted_class_name  \n",
       "0                 CANCEL  \n",
       "1           SUBSCRIPTION  \n",
       "2                 REFUND  \n",
       "3                 CANCEL  \n",
       "4                 REFUND  \n",
       "..                   ...  \n",
       "325              CONTACT  \n",
       "326              INVOICE  \n",
       "327             FEEDBACK  \n",
       "328             DELIVERY  \n",
       "329               CANCEL  \n",
       "\n",
       "[330 rows x 4 columns]"
      ],
      "text/html": [
       "<div>\n",
       "<style scoped>\n",
       "    .dataframe tbody tr th:only-of-type {\n",
       "        vertical-align: middle;\n",
       "    }\n",
       "\n",
       "    .dataframe tbody tr th {\n",
       "        vertical-align: top;\n",
       "    }\n",
       "\n",
       "    .dataframe thead th {\n",
       "        text-align: right;\n",
       "    }\n",
       "</style>\n",
       "<table border=\"1\" class=\"dataframe\">\n",
       "  <thead>\n",
       "    <tr style=\"text-align: right;\">\n",
       "      <th></th>\n",
       "      <th>class_name</th>\n",
       "      <th>question</th>\n",
       "      <th>id</th>\n",
       "      <th>predicted_class_name</th>\n",
       "    </tr>\n",
       "  </thead>\n",
       "  <tbody>\n",
       "    <tr>\n",
       "      <th>0</th>\n",
       "      <td>CANCEL</td>\n",
       "      <td>i do not know how i can see the cancellation c...</td>\n",
       "      <td>3329</td>\n",
       "      <td>CANCEL</td>\n",
       "    </tr>\n",
       "    <tr>\n",
       "      <th>1</th>\n",
       "      <td>SUBSCRIPTION</td>\n",
       "      <td>help me cancelling my corporate newsletter sub...</td>\n",
       "      <td>17714</td>\n",
       "      <td>SUBSCRIPTION</td>\n",
       "    </tr>\n",
       "    <tr>\n",
       "      <th>2</th>\n",
       "      <td>REFUND</td>\n",
       "      <td>I paid {{Currency Symbol}}{{Refund Amount}} fo...</td>\n",
       "      <td>16152</td>\n",
       "      <td>REFUND</td>\n",
       "    </tr>\n",
       "    <tr>\n",
       "      <th>3</th>\n",
       "      <td>CANCEL</td>\n",
       "      <td>i want assistance checking the termination pen...</td>\n",
       "      <td>3648</td>\n",
       "      <td>CANCEL</td>\n",
       "    </tr>\n",
       "    <tr>\n",
       "      <th>4</th>\n",
       "      <td>REFUND</td>\n",
       "      <td>i expect a rebate of {{Currency Symbol}}{{Refu...</td>\n",
       "      <td>26431</td>\n",
       "      <td>REFUND</td>\n",
       "    </tr>\n",
       "    <tr>\n",
       "      <th>...</th>\n",
       "      <td>...</td>\n",
       "      <td>...</td>\n",
       "      <td>...</td>\n",
       "      <td>...</td>\n",
       "    </tr>\n",
       "    <tr>\n",
       "      <th>325</th>\n",
       "      <td>CONTACT</td>\n",
       "      <td>I want to speak with customer service, helpme</td>\n",
       "      <td>8258</td>\n",
       "      <td>CONTACT</td>\n",
       "    </tr>\n",
       "    <tr>\n",
       "      <th>326</th>\n",
       "      <td>INVOICE</td>\n",
       "      <td>get invoice #85632</td>\n",
       "      <td>15244</td>\n",
       "      <td>INVOICE</td>\n",
       "    </tr>\n",
       "    <tr>\n",
       "      <th>327</th>\n",
       "      <td>FEEDBACK</td>\n",
       "      <td>help me filing a complaint</td>\n",
       "      <td>7352</td>\n",
       "      <td>FEEDBACK</td>\n",
       "    </tr>\n",
       "    <tr>\n",
       "      <th>328</th>\n",
       "      <td>DELIVERY</td>\n",
       "      <td>want help seeing how long it takes for my ship...</td>\n",
       "      <td>13018</td>\n",
       "      <td>DELIVERY</td>\n",
       "    </tr>\n",
       "    <tr>\n",
       "      <th>329</th>\n",
       "      <td>CANCEL</td>\n",
       "      <td>I need help to check the early termination fee</td>\n",
       "      <td>3262</td>\n",
       "      <td>CANCEL</td>\n",
       "    </tr>\n",
       "  </tbody>\n",
       "</table>\n",
       "<p>330 rows × 4 columns</p>\n",
       "</div>"
      ]
     },
     "execution_count": 32,
     "metadata": {},
     "output_type": "execute_result"
    }
   ],
   "execution_count": 32
  },
  {
   "metadata": {
    "ExecuteTime": {
     "end_time": "2024-09-06T06:42:07.539066Z",
     "start_time": "2024-09-06T06:42:05.644715Z"
    }
   },
   "cell_type": "code",
   "source": [
    "def calculate_accuracy(df):\n",
    "    # use the huggingface evaluate library to evaluate the model by taking the columns\n",
    "    # 'predicted_class_name' and 'class_name' as input andd calculate the accuracy\n",
    "    from datasets import load_metric\n",
    "    # Create a mapping of class names to numerical labels\n",
    "    unique_classes = set(df['predicted_class_name']).union(set(df['class_name']))\n",
    "    class_to_int = {cls_name: idx for idx, cls_name in enumerate(unique_classes)}\n",
    "    \n",
    "    # Map the class names to integers\n",
    "    df['predicted_class_numeric'] = df['predicted_class_name'].map(class_to_int)\n",
    "    df['class_numeric'] = df['class_name'].map(class_to_int)\n",
    "    \n",
    "    # Compute the accuracy\n",
    "    metric = load_metric(\"accuracy\")\n",
    "    accuracy = metric.compute(predictions=df['predicted_class_numeric'], references=df['class_numeric'])\n",
    "    \n",
    "    print(f\"Accuracy: {accuracy['accuracy']}\")\n",
    "    return accuracy\n",
    "\n",
    "calculate_accuracy(df_test)"
   ],
   "id": "2288815cd5efdd39",
   "outputs": [
    {
     "name": "stderr",
     "output_type": "stream",
     "text": [
      "/var/folders/sj/3t0z94yj4m12rfbjsb8x5j5r0000gn/T/ipykernel_5929/1552406827.py:14: FutureWarning: load_metric is deprecated and will be removed in the next major version of datasets. Use 'evaluate.load' instead, from the new library 🤗 Evaluate: https://huggingface.co/docs/evaluate\n",
      "  metric = load_metric(\"accuracy\")\n"
     ]
    },
    {
     "name": "stdout",
     "output_type": "stream",
     "text": [
      "Accuracy: 0.996969696969697\n"
     ]
    },
    {
     "data": {
      "text/plain": [
       "{'accuracy': 0.996969696969697}"
      ]
     },
     "execution_count": 35,
     "metadata": {},
     "output_type": "execute_result"
    }
   ],
   "execution_count": 35
  },
  {
   "metadata": {},
   "cell_type": "code",
   "outputs": [],
   "execution_count": null,
   "source": "",
   "id": "9d8ed2722c657e"
  }
 ],
 "metadata": {
  "kernelspec": {
   "display_name": "Python 3",
   "language": "python",
   "name": "python3"
  },
  "language_info": {
   "codemirror_mode": {
    "name": "ipython",
    "version": 2
   },
   "file_extension": ".py",
   "mimetype": "text/x-python",
   "name": "python",
   "nbconvert_exporter": "python",
   "pygments_lexer": "ipython2",
   "version": "2.7.6"
  }
 },
 "nbformat": 4,
 "nbformat_minor": 5
}
