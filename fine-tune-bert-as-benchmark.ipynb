{
 "cells": [
  {
   "metadata": {},
   "cell_type": "markdown",
   "source": [
    "# Fine-tune BERT as Benchmark\n",
    "\n",
    "- Fine tune BERT model using autotrain from Huggingface: https://huggingface.co/autotrain\n",
    "- Used the train.csv and val.csv in the autotrain job\n",
    "- Use default configuration\n",
    "- Fine-tuned model : https://huggingface.co/vincentclaes/autotrain-0br8k-gdjpm\n",
    "- accuracy: 0.9994418604651163\n",
    "\n",
    "## Run against test dataset and calculate the accuracy"
   ],
   "id": "dbff05ae10750b97"
  },
  {
   "metadata": {
    "ExecuteTime": {
     "end_time": "2024-09-05T13:18:04.811483Z",
     "start_time": "2024-09-05T13:18:02.991191Z"
    }
   },
   "cell_type": "code",
   "source": "!pip install transformers scikit-learn --quiet",
   "id": "7485f556da24cea",
   "outputs": [],
   "execution_count": 1
  },
  {
   "metadata": {
    "ExecuteTime": {
     "end_time": "2024-09-05T13:18:10.502533Z",
     "start_time": "2024-09-05T13:18:04.814807Z"
    }
   },
   "cell_type": "code",
   "source": [
    "from transformers import pipeline\n",
    "\n",
    "# Load the model (if you're using the model from the Hugging Face Hub)\n",
    "classifier = pipeline('text-classification', model='vincentclaes/autotrain-0br8k-gdjpm')\n",
    "\n",
    "# Inference\n",
    "result = classifier(\"Your input text here\")\n",
    "print(result)\n"
   ],
   "id": "5b7ce459bb0f4ac8",
   "outputs": [
    {
     "name": "stderr",
     "output_type": "stream",
     "text": [
      "Hardware accelerator e.g. GPU is available in the environment, but no `device` argument is passed to the `Pipeline` object. Model will be on CPU.\n"
     ]
    },
    {
     "name": "stdout",
     "output_type": "stream",
     "text": [
      "[{'label': 'ACCOUNT', 'score': 0.9998332262039185}]\n"
     ]
    }
   ],
   "execution_count": 2
  },
  {
   "metadata": {
    "ExecuteTime": {
     "end_time": "2024-09-05T13:18:23.726759Z",
     "start_time": "2024-09-05T13:18:10.505104Z"
    }
   },
   "cell_type": "code",
   "source": [
    "# read test.csv, and make prediction for the column 'question' and add the result to the column 'predicted_class_name'\n",
    "import pandas as pd\n",
    "df = pd.read_csv('test.csv')\n",
    "df['predicted_class_name'] = df['question'].apply(lambda x: classifier(x)[0]['label'])\n",
    "df"
   ],
   "id": "d56d45a61c953ef6",
   "outputs": [
    {
     "data": {
      "text/plain": [
       "       class_name                                           question     id  \\\n",
       "0          CANCEL  i do not know how i can see the cancellation c...   3329   \n",
       "1    SUBSCRIPTION  help me cancelling my corporate newsletter sub...  17714   \n",
       "2          REFUND  I paid {{Currency Symbol}}{{Refund Amount}} fo...  16152   \n",
       "3          CANCEL  i want assistance checking the termination pen...   3648   \n",
       "4          REFUND  i expect a rebate of {{Currency Symbol}}{{Refu...  26431   \n",
       "..            ...                                                ...    ...   \n",
       "325       CONTACT      I want to speak with customer service, helpme   8258   \n",
       "326       INVOICE                                 get invoice #85632  15244   \n",
       "327      FEEDBACK                         help me filing a complaint   7352   \n",
       "328      DELIVERY  want help seeing how long it takes for my ship...  13018   \n",
       "329        CANCEL     I need help to check the early termination fee   3262   \n",
       "\n",
       "    predicted_class_name  \n",
       "0                 CANCEL  \n",
       "1           SUBSCRIPTION  \n",
       "2                 REFUND  \n",
       "3                 CANCEL  \n",
       "4                 REFUND  \n",
       "..                   ...  \n",
       "325              CONTACT  \n",
       "326              INVOICE  \n",
       "327             FEEDBACK  \n",
       "328             DELIVERY  \n",
       "329               CANCEL  \n",
       "\n",
       "[330 rows x 4 columns]"
      ],
      "text/html": [
       "<div>\n",
       "<style scoped>\n",
       "    .dataframe tbody tr th:only-of-type {\n",
       "        vertical-align: middle;\n",
       "    }\n",
       "\n",
       "    .dataframe tbody tr th {\n",
       "        vertical-align: top;\n",
       "    }\n",
       "\n",
       "    .dataframe thead th {\n",
       "        text-align: right;\n",
       "    }\n",
       "</style>\n",
       "<table border=\"1\" class=\"dataframe\">\n",
       "  <thead>\n",
       "    <tr style=\"text-align: right;\">\n",
       "      <th></th>\n",
       "      <th>class_name</th>\n",
       "      <th>question</th>\n",
       "      <th>id</th>\n",
       "      <th>predicted_class_name</th>\n",
       "    </tr>\n",
       "  </thead>\n",
       "  <tbody>\n",
       "    <tr>\n",
       "      <th>0</th>\n",
       "      <td>CANCEL</td>\n",
       "      <td>i do not know how i can see the cancellation c...</td>\n",
       "      <td>3329</td>\n",
       "      <td>CANCEL</td>\n",
       "    </tr>\n",
       "    <tr>\n",
       "      <th>1</th>\n",
       "      <td>SUBSCRIPTION</td>\n",
       "      <td>help me cancelling my corporate newsletter sub...</td>\n",
       "      <td>17714</td>\n",
       "      <td>SUBSCRIPTION</td>\n",
       "    </tr>\n",
       "    <tr>\n",
       "      <th>2</th>\n",
       "      <td>REFUND</td>\n",
       "      <td>I paid {{Currency Symbol}}{{Refund Amount}} fo...</td>\n",
       "      <td>16152</td>\n",
       "      <td>REFUND</td>\n",
       "    </tr>\n",
       "    <tr>\n",
       "      <th>3</th>\n",
       "      <td>CANCEL</td>\n",
       "      <td>i want assistance checking the termination pen...</td>\n",
       "      <td>3648</td>\n",
       "      <td>CANCEL</td>\n",
       "    </tr>\n",
       "    <tr>\n",
       "      <th>4</th>\n",
       "      <td>REFUND</td>\n",
       "      <td>i expect a rebate of {{Currency Symbol}}{{Refu...</td>\n",
       "      <td>26431</td>\n",
       "      <td>REFUND</td>\n",
       "    </tr>\n",
       "    <tr>\n",
       "      <th>...</th>\n",
       "      <td>...</td>\n",
       "      <td>...</td>\n",
       "      <td>...</td>\n",
       "      <td>...</td>\n",
       "    </tr>\n",
       "    <tr>\n",
       "      <th>325</th>\n",
       "      <td>CONTACT</td>\n",
       "      <td>I want to speak with customer service, helpme</td>\n",
       "      <td>8258</td>\n",
       "      <td>CONTACT</td>\n",
       "    </tr>\n",
       "    <tr>\n",
       "      <th>326</th>\n",
       "      <td>INVOICE</td>\n",
       "      <td>get invoice #85632</td>\n",
       "      <td>15244</td>\n",
       "      <td>INVOICE</td>\n",
       "    </tr>\n",
       "    <tr>\n",
       "      <th>327</th>\n",
       "      <td>FEEDBACK</td>\n",
       "      <td>help me filing a complaint</td>\n",
       "      <td>7352</td>\n",
       "      <td>FEEDBACK</td>\n",
       "    </tr>\n",
       "    <tr>\n",
       "      <th>328</th>\n",
       "      <td>DELIVERY</td>\n",
       "      <td>want help seeing how long it takes for my ship...</td>\n",
       "      <td>13018</td>\n",
       "      <td>DELIVERY</td>\n",
       "    </tr>\n",
       "    <tr>\n",
       "      <th>329</th>\n",
       "      <td>CANCEL</td>\n",
       "      <td>I need help to check the early termination fee</td>\n",
       "      <td>3262</td>\n",
       "      <td>CANCEL</td>\n",
       "    </tr>\n",
       "  </tbody>\n",
       "</table>\n",
       "<p>330 rows × 4 columns</p>\n",
       "</div>"
      ]
     },
     "execution_count": 3,
     "metadata": {},
     "output_type": "execute_result"
    }
   ],
   "execution_count": 3
  },
  {
   "metadata": {
    "ExecuteTime": {
     "end_time": "2024-09-05T13:18:24.670045Z",
     "start_time": "2024-09-05T13:18:23.730549Z"
    }
   },
   "cell_type": "code",
   "source": [
    "# use the huggingface evaluate library to evaluate the model by taking the columns\n",
    "# 'predicted_class_name' and 'class_name' as input andd calculate the accuracy\n",
    "from datasets import load_metric\n",
    "# Create a mapping of class names to numerical labels\n",
    "unique_classes = set(df['predicted_class_name']).union(set(df['class_name']))\n",
    "class_to_int = {cls_name: idx for idx, cls_name in enumerate(unique_classes)}\n",
    "\n",
    "# Map the class names to integers\n",
    "df['predicted_class_numeric'] = df['predicted_class_name'].map(class_to_int)\n",
    "df['class_numeric'] = df['class_name'].map(class_to_int)\n",
    "\n",
    "# Compute the accuracy\n",
    "metric = load_metric(\"accuracy\")\n",
    "accuracy = metric.compute(predictions=df['predicted_class_numeric'], references=df['class_numeric'])\n",
    "\n",
    "print(f\"Accuracy: {accuracy['accuracy']}\")\n"
   ],
   "id": "bac7ca9bf7b74e82",
   "outputs": [
    {
     "name": "stderr",
     "output_type": "stream",
     "text": [
      "/var/folders/sj/3t0z94yj4m12rfbjsb8x5j5r0000gn/T/ipykernel_5045/2505427709.py:13: FutureWarning: load_metric is deprecated and will be removed in the next major version of datasets. Use 'evaluate.load' instead, from the new library 🤗 Evaluate: https://huggingface.co/docs/evaluate\n",
      "  metric = load_metric(\"accuracy\")\n"
     ]
    },
    {
     "name": "stdout",
     "output_type": "stream",
     "text": [
      "Accuracy: 0.996969696969697\n"
     ]
    },
    {
     "name": "stderr",
     "output_type": "stream",
     "text": [
      "huggingface/tokenizers: The current process just got forked, after parallelism has already been used. Disabling parallelism to avoid deadlocks...\n",
      "To disable this warning, you can either:\n",
      "\t- Avoid using `tokenizers` before the fork if possible\n",
      "\t- Explicitly set the environment variable TOKENIZERS_PARALLELISM=(true | false)\n"
     ]
    }
   ],
   "execution_count": 4
  }
 ],
 "metadata": {
  "kernelspec": {
   "display_name": "Python 3",
   "language": "python",
   "name": "python3"
  },
  "language_info": {
   "codemirror_mode": {
    "name": "ipython",
    "version": 2
   },
   "file_extension": ".py",
   "mimetype": "text/x-python",
   "name": "python",
   "nbconvert_exporter": "python",
   "pygments_lexer": "ipython2",
   "version": "2.7.6"
  }
 },
 "nbformat": 4,
 "nbformat_minor": 5
}
